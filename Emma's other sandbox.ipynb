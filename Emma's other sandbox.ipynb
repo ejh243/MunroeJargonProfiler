{
 "cells": [
  {
   "cell_type": "code",
   "execution_count": 1,
   "metadata": {
    "collapsed": false
   },
   "outputs": [
    {
     "name": "stdout",
     "output_type": "stream",
     "text": [
      "[nltk_data] Downloading package averaged_perceptron_tagger to\n",
      "[nltk_data]     C:\\Users\\Emma\\AppData\\Roaming\\nltk_data...\n",
      "[nltk_data]   Package averaged_perceptron_tagger is already up-to-\n",
      "[nltk_data]       date!\n",
      "[nltk_data] Downloading package punkt to\n",
      "[nltk_data]     C:\\Users\\Emma\\AppData\\Roaming\\nltk_data...\n",
      "[nltk_data]   Package punkt is already up-to-date!\n"
     ]
    }
   ],
   "source": [
    "from jargonprofiler.util import read_file as read_file\n",
    "from jargonprofiler.util import find_acronyms as find_acronyms\n",
    "from jargonprofiler.munroe import munroe_score"
   ]
  },
  {
   "cell_type": "code",
   "execution_count": 21,
   "metadata": {
    "collapsed": false
   },
   "outputs": [
    {
     "name": "stdout",
     "output_type": "stream",
     "text": [
      "0.6805056968040085\n"
     ]
    }
   ],
   "source": [
    "from nltk.corpus import reuters\n",
    "choices = brown.fileids(categories='news')\n",
    "count_all = 0\n",
    "sum_scores = 0\n",
    "scores = []\n",
    "for choice in choices:\n",
    "    count_all+=1\n",
    "    score = munroe_score(' '.join(brown.words(choice)), verbose=False)['score']\n",
    "    scores.append(score)\n",
    "    sum_scores+=score\n",
    "\n",
    "print(sum_scores/count_all)"
   ]
  },
  {
   "cell_type": "code",
   "execution_count": 22,
   "metadata": {
    "collapsed": false
   },
   "outputs": [
    {
     "ename": "ModuleNotFoundError",
     "evalue": "No module named 'matplotlib'",
     "output_type": "error",
     "traceback": [
      "\u001b[1;31m---------------------------------------------------------------------------\u001b[0m",
      "\u001b[1;31mModuleNotFoundError\u001b[0m                       Traceback (most recent call last)",
      "\u001b[1;32m<ipython-input-22-3af6fd0ddb4b>\u001b[0m in \u001b[0;36m<module>\u001b[1;34m()\u001b[0m\n\u001b[1;32m----> 1\u001b[1;33m \u001b[1;32mimport\u001b[0m \u001b[0mmatplotlib\u001b[0m\u001b[1;33m.\u001b[0m\u001b[0mpyplot\u001b[0m \u001b[1;32mas\u001b[0m \u001b[0mplt\u001b[0m\u001b[1;33m\u001b[0m\u001b[0m\n\u001b[0m\u001b[0;32m      2\u001b[0m \u001b[1;33m\u001b[0m\u001b[0m\n\u001b[0;32m      3\u001b[0m \u001b[1;31m# basic plot\u001b[0m\u001b[1;33m\u001b[0m\u001b[1;33m\u001b[0m\u001b[0m\n\u001b[0;32m      4\u001b[0m \u001b[0mplt\u001b[0m\u001b[1;33m.\u001b[0m\u001b[0mboxplot\u001b[0m\u001b[1;33m(\u001b[0m\u001b[0mscores\u001b[0m\u001b[1;33m)\u001b[0m\u001b[1;33m\u001b[0m\u001b[0m\n\u001b[0;32m      5\u001b[0m \u001b[0mplt\u001b[0m\u001b[1;33m.\u001b[0m\u001b[0mtitle\u001b[0m\u001b[1;33m(\u001b[0m\u001b[1;34m'Average Munroe score for news articles'\u001b[0m\u001b[1;33m)\u001b[0m\u001b[1;33m\u001b[0m\u001b[0m\n",
      "\u001b[1;31mModuleNotFoundError\u001b[0m: No module named 'matplotlib'"
     ]
    }
   ],
   "source": [
    "import matplotlib.pyplot as plt\n",
    "\n",
    "# basic plot\n",
    "plt.boxplot(scores)\n",
    "plt.title('Average Munroe score for news articles')"
   ]
  },
  {
   "cell_type": "code",
   "execution_count": 11,
   "metadata": {
    "collapsed": false
   },
   "outputs": [
    {
     "data": {
      "text/plain": [
       "'FRENCH FREE MARKET CEREAL EXPORT BIDS DETAILED French operators have requested licences to export'"
      ]
     },
     "execution_count": 11,
     "metadata": {},
     "output_type": "execute_result"
    }
   ],
   "source": [
    "' '.join(reuters.words(choice))"
   ]
  },
  {
   "cell_type": "code",
   "execution_count": 15,
   "metadata": {
    "collapsed": false
   },
   "outputs": [
    {
     "data": {
      "text/plain": [
       "[('U', 'not alphabetic'),\n",
       " ('S', 'not alphabetic'),\n",
       " ('SILVER', 'proper noun'),\n",
       " ('PRODUCTION', 'proper noun'),\n",
       " ('ROSE', 'proper noun'),\n",
       " ('IN', 'acronym'),\n",
       " ('DECEMBER', 'proper noun'),\n",
       " ('U', 'not alphabetic'),\n",
       " ('S', 'not alphabetic'),\n",
       " ('mine', 'not common'),\n",
       " ('production', 'common'),\n",
       " ('of', 'not alphabetic'),\n",
       " ('silver', 'not common'),\n",
       " ('rose', 'not common'),\n",
       " ('to', 'not alphabetic'),\n",
       " ('2', 'not alphabetic'),\n",
       " ('295', 'not alphabetic'),\n",
       " ('230', 'not alphabetic'),\n",
       " ('troy', 'not common'),\n",
       " ('ounces', 'not common'),\n",
       " ('in', 'not alphabetic'),\n",
       " ('December', 'proper noun'),\n",
       " ('from', 'common'),\n",
       " ('2', 'not alphabetic'),\n",
       " ('181', 'not alphabetic'),\n",
       " ('082', 'not alphabetic'),\n",
       " ('in', 'not alphabetic'),\n",
       " ('November', 'proper noun'),\n",
       " ('the', 'common'),\n",
       " ('Interior', 'proper noun'),\n",
       " ('Department', 'proper noun'),\n",
       " ('s', 'not alphabetic'),\n",
       " ('Bureau', 'proper noun'),\n",
       " ('of', 'not alphabetic'),\n",
       " ('Mines', 'proper noun'),\n",
       " ('said', 'not common'),\n",
       " ('U', 'not alphabetic'),\n",
       " ('S', 'not alphabetic'),\n",
       " ('imports', 'common'),\n",
       " ('of', 'not alphabetic'),\n",
       " ('silver', 'not common'),\n",
       " ('in', 'not alphabetic'),\n",
       " ('December', 'proper noun'),\n",
       " ('were', 'not common'),\n",
       " ('8', 'not alphabetic'),\n",
       " ('458', 'not alphabetic'),\n",
       " ('000', 'not alphabetic'),\n",
       " ('ounces', 'not common'),\n",
       " ('vs', 'not alphabetic'),\n",
       " ('19', 'not alphabetic'),\n",
       " ('950', 'not alphabetic'),\n",
       " ('000', 'not alphabetic'),\n",
       " ('in', 'not alphabetic'),\n",
       " ('November', 'proper noun'),\n",
       " ('and', 'common'),\n",
       " ('8', 'not alphabetic'),\n",
       " ('840', 'not alphabetic'),\n",
       " ('000', 'not alphabetic'),\n",
       " ('in', 'not alphabetic'),\n",
       " ('December', 'proper noun'),\n",
       " ('1985', 'not alphabetic'),\n",
       " ('Silver', 'proper noun'),\n",
       " ('exports', 'not common'),\n",
       " ('totaled', 'common'),\n",
       " ('1', 'not alphabetic'),\n",
       " ('549', 'not alphabetic'),\n",
       " ('000', 'not alphabetic'),\n",
       " ('ounces', 'not common'),\n",
       " ('in', 'not alphabetic'),\n",
       " ('December', 'proper noun'),\n",
       " ('vs', 'not alphabetic'),\n",
       " ('2', 'not alphabetic'),\n",
       " ('346', 'not alphabetic'),\n",
       " ('000', 'not alphabetic'),\n",
       " ('in', 'not alphabetic'),\n",
       " ('November', 'proper noun'),\n",
       " ('and', 'common'),\n",
       " ('1', 'not alphabetic'),\n",
       " ('504', 'not alphabetic'),\n",
       " ('000', 'not alphabetic'),\n",
       " ('ounces', 'not common'),\n",
       " ('in', 'not alphabetic'),\n",
       " ('December', 'proper noun'),\n",
       " ('1985', 'not alphabetic'),\n",
       " ('Silver', 'proper noun'),\n",
       " ('mining', 'not common'),\n",
       " ('production', 'common'),\n",
       " ('in', 'not alphabetic'),\n",
       " ('the', 'common'),\n",
       " ('12', 'not alphabetic'),\n",
       " ('month', 'common'),\n",
       " ('period', 'common'),\n",
       " ('Jan', 'proper noun'),\n",
       " ('Dec', 'proper noun'),\n",
       " ('1986', 'not alphabetic'),\n",
       " ('totaled', 'common'),\n",
       " ('31', 'not alphabetic'),\n",
       " ('720', 'not alphabetic'),\n",
       " ('769', 'not alphabetic'),\n",
       " ('ounces', 'not common'),\n",
       " ('vs', 'not alphabetic'),\n",
       " ('39', 'not alphabetic'),\n",
       " ('357', 'not alphabetic'),\n",
       " ('197', 'not alphabetic'),\n",
       " ('ounces', 'not common'),\n",
       " ('produced', 'common'),\n",
       " ('over', 'common'),\n",
       " ('the', 'common'),\n",
       " ('same', 'common'),\n",
       " ('period', 'common'),\n",
       " ('in', 'not alphabetic'),\n",
       " ('1985', 'not alphabetic'),\n",
       " ('Imports', 'common'),\n",
       " ('of', 'not alphabetic'),\n",
       " ('silver', 'not common'),\n",
       " ('in', 'not alphabetic'),\n",
       " ('Jan', 'proper noun'),\n",
       " ('Dec', 'proper noun'),\n",
       " ('1986', 'not alphabetic'),\n",
       " ('totaled', 'common'),\n",
       " ('144', 'not alphabetic'),\n",
       " ('890', 'not alphabetic'),\n",
       " ('000', 'not alphabetic'),\n",
       " ('ounces', 'not common'),\n",
       " ('vs', 'not alphabetic'),\n",
       " ('152', 'not alphabetic'),\n",
       " ('601', 'not alphabetic'),\n",
       " ('000', 'not alphabetic'),\n",
       " ('ounces', 'not common'),\n",
       " ('in', 'not alphabetic'),\n",
       " ('Jan', 'proper noun'),\n",
       " ('Dec', 'proper noun'),\n",
       " ('1985', 'not alphabetic'),\n",
       " ('while', 'common'),\n",
       " ('silver', 'not common'),\n",
       " ('exports', 'not common'),\n",
       " ('stood', 'not common'),\n",
       " ('at', 'not alphabetic'),\n",
       " ('25', 'not alphabetic'),\n",
       " ('114', 'not alphabetic'),\n",
       " ('000', 'not alphabetic'),\n",
       " ('ounces', 'not common'),\n",
       " ('and', 'common'),\n",
       " ('24', 'not alphabetic'),\n",
       " ('756', 'not alphabetic'),\n",
       " ('000', 'not alphabetic'),\n",
       " ('ounces', 'not common'),\n",
       " ('over', 'common'),\n",
       " ('the', 'common'),\n",
       " ('respective', 'not common'),\n",
       " ('periods', 'common'),\n",
       " ('the', 'common'),\n",
       " ('bureau', 'not common'),\n",
       " ('said', 'not common')]"
      ]
     },
     "execution_count": 15,
     "metadata": {},
     "output_type": "execute_result"
    }
   ],
   "source": [
    "munroe_score(' '.join(reuters.words(choice)), verbose=False)['tagged_words']"
   ]
  },
  {
   "cell_type": "code",
   "execution_count": 16,
   "metadata": {
    "collapsed": false
   },
   "outputs": [
    {
     "data": {
      "text/plain": [
       "['acq',\n",
       " 'alum',\n",
       " 'barley',\n",
       " 'bop',\n",
       " 'carcass',\n",
       " 'castor-oil',\n",
       " 'cocoa',\n",
       " 'coconut',\n",
       " 'coconut-oil',\n",
       " 'coffee',\n",
       " 'copper',\n",
       " 'copra-cake',\n",
       " 'corn',\n",
       " 'cotton',\n",
       " 'cotton-oil',\n",
       " 'cpi',\n",
       " 'cpu',\n",
       " 'crude',\n",
       " 'dfl',\n",
       " 'dlr',\n",
       " 'dmk',\n",
       " 'earn',\n",
       " 'fuel',\n",
       " 'gas',\n",
       " 'gnp',\n",
       " 'gold',\n",
       " 'grain',\n",
       " 'groundnut',\n",
       " 'groundnut-oil',\n",
       " 'heat',\n",
       " 'hog',\n",
       " 'housing',\n",
       " 'income',\n",
       " 'instal-debt',\n",
       " 'interest',\n",
       " 'ipi',\n",
       " 'iron-steel',\n",
       " 'jet',\n",
       " 'jobs',\n",
       " 'l-cattle',\n",
       " 'lead',\n",
       " 'lei',\n",
       " 'lin-oil',\n",
       " 'livestock',\n",
       " 'lumber',\n",
       " 'meal-feed',\n",
       " 'money-fx',\n",
       " 'money-supply',\n",
       " 'naphtha',\n",
       " 'nat-gas',\n",
       " 'nickel',\n",
       " 'nkr',\n",
       " 'nzdlr',\n",
       " 'oat',\n",
       " 'oilseed',\n",
       " 'orange',\n",
       " 'palladium',\n",
       " 'palm-oil',\n",
       " 'palmkernel',\n",
       " 'pet-chem',\n",
       " 'platinum',\n",
       " 'potato',\n",
       " 'propane',\n",
       " 'rand',\n",
       " 'rape-oil',\n",
       " 'rapeseed',\n",
       " 'reserves',\n",
       " 'retail',\n",
       " 'rice',\n",
       " 'rubber',\n",
       " 'rye',\n",
       " 'ship',\n",
       " 'silver',\n",
       " 'sorghum',\n",
       " 'soy-meal',\n",
       " 'soy-oil',\n",
       " 'soybean',\n",
       " 'strategic-metal',\n",
       " 'sugar',\n",
       " 'sun-meal',\n",
       " 'sun-oil',\n",
       " 'sunseed',\n",
       " 'tea',\n",
       " 'tin',\n",
       " 'trade',\n",
       " 'veg-oil',\n",
       " 'wheat',\n",
       " 'wpi',\n",
       " 'yen',\n",
       " 'zinc']"
      ]
     },
     "execution_count": 16,
     "metadata": {},
     "output_type": "execute_result"
    }
   ],
   "source": [
    "reuters.categories()"
   ]
  },
  {
   "cell_type": "code",
   "execution_count": 18,
   "metadata": {
    "collapsed": false
   },
   "outputs": [],
   "source": [
    "from nltk.corpus import brown\n",
    "news_text = brown.words(categories='news')"
   ]
  },
  {
   "cell_type": "code",
   "execution_count": 19,
   "metadata": {
    "collapsed": false
   },
   "outputs": [
    {
     "data": {
      "text/plain": [
       "100554"
      ]
     },
     "execution_count": 19,
     "metadata": {},
     "output_type": "execute_result"
    }
   ],
   "source": [
    "len(news_text)"
   ]
  },
  {
   "cell_type": "code",
   "execution_count": 20,
   "metadata": {
    "collapsed": false
   },
   "outputs": [
    {
     "data": {
      "text/plain": [
       "['ca01',\n",
       " 'ca02',\n",
       " 'ca03',\n",
       " 'ca04',\n",
       " 'ca05',\n",
       " 'ca06',\n",
       " 'ca07',\n",
       " 'ca08',\n",
       " 'ca09',\n",
       " 'ca10',\n",
       " 'ca11',\n",
       " 'ca12',\n",
       " 'ca13',\n",
       " 'ca14',\n",
       " 'ca15',\n",
       " 'ca16',\n",
       " 'ca17',\n",
       " 'ca18',\n",
       " 'ca19',\n",
       " 'ca20',\n",
       " 'ca21',\n",
       " 'ca22',\n",
       " 'ca23',\n",
       " 'ca24',\n",
       " 'ca25',\n",
       " 'ca26',\n",
       " 'ca27',\n",
       " 'ca28',\n",
       " 'ca29',\n",
       " 'ca30',\n",
       " 'ca31',\n",
       " 'ca32',\n",
       " 'ca33',\n",
       " 'ca34',\n",
       " 'ca35',\n",
       " 'ca36',\n",
       " 'ca37',\n",
       " 'ca38',\n",
       " 'ca39',\n",
       " 'ca40',\n",
       " 'ca41',\n",
       " 'ca42',\n",
       " 'ca43',\n",
       " 'ca44']"
      ]
     },
     "execution_count": 20,
     "metadata": {},
     "output_type": "execute_result"
    }
   ],
   "source": [
    "brown.fileids(categories='news')"
   ]
  },
  {
   "cell_type": "code",
   "execution_count": null,
   "metadata": {
    "collapsed": true
   },
   "outputs": [],
   "source": []
  }
 ],
 "metadata": {
  "kernelspec": {
   "display_name": "Python 3",
   "language": "python",
   "name": "python3"
  },
  "language_info": {
   "codemirror_mode": {
    "name": "ipython",
    "version": 3
   },
   "file_extension": ".py",
   "mimetype": "text/x-python",
   "name": "python",
   "nbconvert_exporter": "python",
   "pygments_lexer": "ipython3",
   "version": "3.6.1"
  }
 },
 "nbformat": 4,
 "nbformat_minor": 2
}
