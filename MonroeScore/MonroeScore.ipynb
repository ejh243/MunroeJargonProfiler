{
 "cells": [
  {
   "cell_type": "markdown",
   "metadata": {
    "deletable": true,
    "editable": true
   },
   "source": [
    "Basic monroe engine:\n",
    "- Takes raw text\n",
    "- Tokenises\n",
    "- Stems words using Porter Stemmer (removes 'ing', 's'...\n",
    "- Sees how many match the (stemmed) most common 1000 words\n",
    "- Returns a float percentage score\n",
    "\n",
    "List of common words from http://www.ef.co.uk/english-resources/english-vocabulary/top-1000-words/"
   ]
  },
  {
   "cell_type": "code",
   "execution_count": 7,
   "metadata": {
    "collapsed": true,
    "deletable": true,
    "editable": true
   },
   "outputs": [],
   "source": [
    "import re\n",
    "import nltk\n",
    "\n",
    "\n",
    "            \n",
    "def tokenise(text):\n",
    "    '''\n",
    "    Takes raw text and returns a list of tokens\n",
    "    \n",
    "    At present, tokens are:\n",
    "    - 2+ characters long\n",
    "    - Alphabetic (numbers are automatically excluded)\n",
    "    '''\n",
    "    text = text.encode('ascii', 'ignore').decode('utf-8')\n",
    "    tokens = re.findall(\"[A-Za-z]{2,}\",text)\n",
    "    tokens = [t.lower() for t in tokens]\n",
    "    return tokens\n",
    "\n",
    "def stem(tokens):\n",
    "    '''\n",
    "    Takes a list of tokens, applies a stemming algorithm (returns standardised forms of words - removes\n",
    "    'ing', 's'...) and returns a list of stemmed words\n",
    "    \n",
    "    At present:\n",
    "    - We use the Porter stemmer (least aggressive form of stemming - alternates are snowball and lancaster)\n",
    "    '''\n",
    "    stemmer = nltk.stem.PorterStemmer()\n",
    "    return [stemmer.stem(t) for t in tokens]\n",
    "\n",
    "def get_common():  \n",
    "    '''\n",
    "    Opens the text file containing the list of 1000 most common words found at\n",
    "    http://www.ef.co.uk/english-resources/english-vocabulary/top-1000-words/\n",
    "    removes the newlines and returns them as a list.\n",
    "    '''\n",
    "    text = []\n",
    "    with open('1000common.txt', 'r') as f:\n",
    "        for line in f:\n",
    "            if line.endswith('\\n'):\n",
    "                text.append(line[0:-1])\n",
    "            else:\n",
    "                text.append(line)\n",
    "    return text\n",
    "\n",
    "def read_file(filename):\n",
    "    '''\n",
    "    Open a file, read text, return a string\n",
    "    '''\n",
    "    text = ''\n",
    "    with open(filename, 'r') as f:\n",
    "        for line in f:\n",
    "            if line.endswith('\\n'):\n",
    "                text+=line[0:-1]\n",
    "            else:\n",
    "                text+=line\n",
    "    return text\n",
    "\n",
    "\n",
    "def munroe_score(text, verbose=True):\n",
    "    '''\n",
    "    Takes raw text, tokenises and stems it, and compares the stems to the set of the stemmed 1000 most common words\n",
    "    Returns the percentage of words that were in the list of common words\n",
    "    \n",
    "    e.g. if output is 0.61, 61% of words were in the list of the 1000 most common. \n",
    "    '''\n",
    "    tokens = tokenise(text)\n",
    "    stems = stem(tokens)\n",
    "\n",
    "    common = get_common()\n",
    "    stemmed_common = set(stem(common))\n",
    "\n",
    "    munroe = 0\n",
    "    for s in stems:\n",
    "        if s in stemmed_common:\n",
    "            munroe+=1\n",
    "            \n",
    "    if verbose:\n",
    "        print('You have '+ str(len(stems)) + ' words in your document')\n",
    "        print('Of these, '+str(munroe)+' are in the most common 1000 words!')#\n",
    "        print('Score: '+str(munroe/len(stems))+'%')\n",
    "    return munroe/len(stems)   "
   ]
  },
  {
   "cell_type": "code",
   "execution_count": 8,
   "metadata": {
    "collapsed": false,
    "deletable": true,
    "editable": true
   },
   "outputs": [
    {
     "name": "stdout",
     "output_type": "stream",
     "text": [
      "The bioethics of human embryonic stem cell research (hESR) is controversial, including in Asia. After the 2001 US-moratorium on the federal funding of hESR, some Asian countries jumped into the 'bioethical vacuum', claiming that Asian countries do not suffer from Western religious scruples about using human embryos in research. Nevertheless, controversies around the donation of oocytes, the trade and barter of embryos, stem cell research trials, and human embryonic cloning in Asia have attracted global media attention. International guidelines are being adopted into diverging economic, political and socio-cultural contexts in Asia.\n",
      "\n",
      "\n",
      "This comparative research asks on what basis these guidelines are adopted in a socialist developing country such as China (PRC) and in a wealthy, democratic bureaucracy such as Japan. It investigates the formulation and implementation of regulations by visiting laboratories and clinics, interviewing donors of embryos and oocytes, observing scientists that handle the ‘materials’ and analysing public debates. Studying how bioethics guidelines created by governments, medical associations and private companies impact research and international research cooperation, the research expects to provide insights into how scientists, publics and governments deal with regulatory and bioethical problems in very different economic, political and cultural contexts.\n"
     ]
    }
   ],
   "source": [
    "text= \"\"\"The bioethics of human embryonic stem cell research (hESR) is controversial, including in Asia. After the 2001 US-moratorium on the federal funding of hESR, some Asian countries jumped into the 'bioethical vacuum', claiming that Asian countries do not suffer from Western religious scruples about using human embryos in research. Nevertheless, controversies around the donation of oocytes, the trade and barter of embryos, stem cell research trials, and human embryonic cloning in Asia have attracted global media attention. International guidelines are being adopted into diverging economic, political and socio-cultural contexts in Asia.\n",
    "\n",
    "\n",
    "This comparative research asks on what basis these guidelines are adopted in a socialist developing country such as China (PRC) and in a wealthy, democratic bureaucracy such as Japan. It investigates the formulation and implementation of regulations by visiting laboratories and clinics, interviewing donors of embryos and oocytes, observing scientists that handle the ‘materials’ and analysing public debates. Studying how bioethics guidelines created by governments, medical associations and private companies impact research and international research cooperation, the research expects to provide insights into how scientists, publics and governments deal with regulatory and bioethical problems in very different economic, political and cultural contexts.\"\"\"\n",
    "print(text)"
   ]
  },
  {
   "cell_type": "code",
   "execution_count": 9,
   "metadata": {
    "collapsed": false,
    "deletable": true,
    "editable": true
   },
   "outputs": [
    {
     "name": "stdout",
     "output_type": "stream",
     "text": [
      "You have 192 words in your document\n",
      "Of these, 127 are in the most common 1000 words!\n",
      "Score: 0.6614583333333334%\n"
     ]
    },
    {
     "data": {
      "text/plain": [
       "0.6614583333333334"
      ]
     },
     "execution_count": 9,
     "metadata": {},
     "output_type": "execute_result"
    }
   ],
   "source": [
    "munroe_score(text, verbose=True)"
   ]
  },
  {
   "cell_type": "code",
   "execution_count": 11,
   "metadata": {
    "collapsed": false
   },
   "outputs": [],
   "source": [
    "import os \n",
    "tests = os.listdir('../Tests')\n",
    "for test in tests:\n",
    "    print(test)\n",
    "    test_text = read_file(test)\n",
    "    munroe_score(test_text, verbose=True)\n",
    "    print('-'*50)\n",
    "    "
   ]
  },
  {
   "cell_type": "code",
   "execution_count": null,
   "metadata": {
    "collapsed": true
   },
   "outputs": [],
   "source": []
  }
 ],
 "metadata": {
  "kernelspec": {
   "display_name": "Python 3",
   "language": "python",
   "name": "python3"
  },
  "language_info": {
   "codemirror_mode": {
    "name": "ipython",
    "version": 3
   },
   "file_extension": ".py",
   "mimetype": "text/x-python",
   "name": "python",
   "nbconvert_exporter": "python",
   "pygments_lexer": "ipython3",
   "version": "3.6.1"
  }
 },
 "nbformat": 4,
 "nbformat_minor": 2
}
